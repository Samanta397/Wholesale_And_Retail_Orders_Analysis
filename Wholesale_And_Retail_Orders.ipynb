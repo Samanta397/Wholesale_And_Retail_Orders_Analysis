{
 "cells": [
  {
   "cell_type": "markdown",
   "id": "2eab3e38-bee5-4af8-952f-fee29ebbe076",
   "metadata": {},
   "source": [
    "## 1. Завантаження, знайомство з даними та підготовка їх до аналізу"
   ]
  },
  {
   "cell_type": "markdown",
   "id": "77d9b7fc-83b1-4a35-98a0-9f4f031e6aee",
   "metadata": {},
   "source": [
    "Для початку імпортуємо необхідні бібліотеки, завантажимо датасети та уніфіюємо назви колонок у форматі snake_case для зрочної роботи."
   ]
  },
  {
   "cell_type": "code",
   "execution_count": 3,
   "id": "27dc51d3-9818-44c3-b99d-17b944422101",
   "metadata": {},
   "outputs": [],
   "source": [
    "import pandas as pd"
   ]
  },
  {
   "cell_type": "code",
   "execution_count": 4,
   "id": "bdf6f2fb-5b80-47fa-ab57-608f88aa30e2",
   "metadata": {},
   "outputs": [],
   "source": [
    "# Завантаження даних\n",
    "orders_data_path = './data/orders.csv'\n",
    "supliers_data_path = './data/product-supplier.csv'\n",
    "\n",
    "orders_df = pd.read_csv(orders_data_path)\n",
    "supliers_df = pd.read_csv(supliers_data_path)\n",
    "\n",
    "# Унфікація назв колонок\n",
    "for df in [orders_df, supliers_df]:\n",
    "    df.rename(columns=lambda x: x.lower().replace(\" \", \"_\"), inplace=True)"
   ]
  },
  {
   "cell_type": "markdown",
   "id": "46b75391-5e66-4f6a-8eed-f72b1bd83c99",
   "metadata": {},
   "source": [
    "#### 1.1 Перегляд та підготовка даних датасету orders"
   ]
  },
  {
   "cell_type": "code",
   "execution_count": 5,
   "id": "0720e651-a2ee-456f-a7d2-0c166b98a2a2",
   "metadata": {
    "scrolled": true
   },
   "outputs": [
    {
     "data": {
      "text/html": [
       "<div>\n",
       "<style scoped>\n",
       "    .dataframe tbody tr th:only-of-type {\n",
       "        vertical-align: middle;\n",
       "    }\n",
       "\n",
       "    .dataframe tbody tr th {\n",
       "        vertical-align: top;\n",
       "    }\n",
       "\n",
       "    .dataframe thead th {\n",
       "        text-align: right;\n",
       "    }\n",
       "</style>\n",
       "<table border=\"1\" class=\"dataframe\">\n",
       "  <thead>\n",
       "    <tr style=\"text-align: right;\">\n",
       "      <th></th>\n",
       "      <th>customer_id</th>\n",
       "      <th>customer_status</th>\n",
       "      <th>date_order_was_placed</th>\n",
       "      <th>delivery_date</th>\n",
       "      <th>order_id</th>\n",
       "      <th>product_id</th>\n",
       "      <th>quantity_ordered</th>\n",
       "      <th>total_retail_price_for_this_order</th>\n",
       "      <th>cost_price_per_unit</th>\n",
       "    </tr>\n",
       "  </thead>\n",
       "  <tbody>\n",
       "    <tr>\n",
       "      <th>0</th>\n",
       "      <td>579</td>\n",
       "      <td>Silver</td>\n",
       "      <td>01-Jan-17</td>\n",
       "      <td>07-Jan-17</td>\n",
       "      <td>123002578</td>\n",
       "      <td>220101400106</td>\n",
       "      <td>2</td>\n",
       "      <td>92.6</td>\n",
       "      <td>20.70</td>\n",
       "    </tr>\n",
       "    <tr>\n",
       "      <th>1</th>\n",
       "      <td>7574</td>\n",
       "      <td>SILVER</td>\n",
       "      <td>01-Jan-17</td>\n",
       "      <td>05-Jan-17</td>\n",
       "      <td>123004074</td>\n",
       "      <td>210201000009</td>\n",
       "      <td>1</td>\n",
       "      <td>21.7</td>\n",
       "      <td>9.95</td>\n",
       "    </tr>\n",
       "    <tr>\n",
       "      <th>2</th>\n",
       "      <td>28861</td>\n",
       "      <td>Gold</td>\n",
       "      <td>01-Jan-17</td>\n",
       "      <td>04-Jan-17</td>\n",
       "      <td>123000871</td>\n",
       "      <td>230100500068</td>\n",
       "      <td>1</td>\n",
       "      <td>1.7</td>\n",
       "      <td>0.80</td>\n",
       "    </tr>\n",
       "    <tr>\n",
       "      <th>3</th>\n",
       "      <td>43796</td>\n",
       "      <td>Gold</td>\n",
       "      <td>01-Jan-17</td>\n",
       "      <td>06-Jan-17</td>\n",
       "      <td>123002851</td>\n",
       "      <td>220100100633</td>\n",
       "      <td>1</td>\n",
       "      <td>47.9</td>\n",
       "      <td>24.05</td>\n",
       "    </tr>\n",
       "    <tr>\n",
       "      <th>4</th>\n",
       "      <td>54673</td>\n",
       "      <td>Gold</td>\n",
       "      <td>01-Jan-17</td>\n",
       "      <td>04-Jan-17</td>\n",
       "      <td>123003607</td>\n",
       "      <td>220200200043</td>\n",
       "      <td>1</td>\n",
       "      <td>36.9</td>\n",
       "      <td>18.30</td>\n",
       "    </tr>\n",
       "  </tbody>\n",
       "</table>\n",
       "</div>"
      ],
      "text/plain": [
       "   customer_id customer_status date_order_was_placed delivery_date   order_id  \\\n",
       "0          579          Silver             01-Jan-17     07-Jan-17  123002578   \n",
       "1         7574          SILVER             01-Jan-17     05-Jan-17  123004074   \n",
       "2        28861            Gold             01-Jan-17     04-Jan-17  123000871   \n",
       "3        43796            Gold             01-Jan-17     06-Jan-17  123002851   \n",
       "4        54673            Gold             01-Jan-17     04-Jan-17  123003607   \n",
       "\n",
       "     product_id  quantity_ordered  total_retail_price_for_this_order  \\\n",
       "0  220101400106                 2                               92.6   \n",
       "1  210201000009                 1                               21.7   \n",
       "2  230100500068                 1                                1.7   \n",
       "3  220100100633                 1                               47.9   \n",
       "4  220200200043                 1                               36.9   \n",
       "\n",
       "   cost_price_per_unit  \n",
       "0                20.70  \n",
       "1                 9.95  \n",
       "2                 0.80  \n",
       "3                24.05  \n",
       "4                18.30  "
      ]
     },
     "execution_count": 5,
     "metadata": {},
     "output_type": "execute_result"
    }
   ],
   "source": [
    "# Переглянемо як та які дані зберігаються в датасеті orders\n",
    "orders_df.head()"
   ]
  },
  {
   "cell_type": "code",
   "execution_count": 6,
   "id": "297480bc-bdc9-49a4-bdf9-6398949c3bbf",
   "metadata": {},
   "outputs": [
    {
     "name": "stdout",
     "output_type": "stream",
     "text": [
      "Набір даних містить 185013 рядків та 9 колонок\n"
     ]
    }
   ],
   "source": [
    "orders_df_shape = orders_df.shape\n",
    "print(f\"Набір даних містить {orders_df_shape[0]} рядків та {orders_df_shape[1]} колонок\")"
   ]
  },
  {
   "cell_type": "code",
   "execution_count": 7,
   "id": "6e33c53b-ddca-4552-bd34-5b8bd0cd38c8",
   "metadata": {},
   "outputs": [
    {
     "data": {
      "text/plain": [
       "customer_id                          0\n",
       "customer_status                      0\n",
       "date_order_was_placed                0\n",
       "delivery_date                        0\n",
       "order_id                             0\n",
       "product_id                           0\n",
       "quantity_ordered                     0\n",
       "total_retail_price_for_this_order    0\n",
       "cost_price_per_unit                  0\n",
       "dtype: int64"
      ]
     },
     "execution_count": 7,
     "metadata": {},
     "output_type": "execute_result"
    }
   ],
   "source": [
    "# Перевірка на пусті значення\n",
    "order_missing_values = orders_df.isna().sum()\n",
    "order_missing_values"
   ]
  },
  {
   "cell_type": "markdown",
   "id": "99546c63-2e1a-4a15-b6e9-fed54cb45a0b",
   "metadata": {},
   "source": [
    "Висновок: датасет не містить пустих значень."
   ]
  },
  {
   "cell_type": "code",
   "execution_count": 8,
   "id": "2b1a93fb-705b-49f6-a782-f19bd2527120",
   "metadata": {},
   "outputs": [
    {
     "data": {
      "text/plain": [
       "customer_id                            int64\n",
       "customer_status                       object\n",
       "date_order_was_placed                 object\n",
       "delivery_date                         object\n",
       "order_id                               int64\n",
       "product_id                             int64\n",
       "quantity_ordered                       int64\n",
       "total_retail_price_for_this_order    float64\n",
       "cost_price_per_unit                  float64\n",
       "dtype: object"
      ]
     },
     "execution_count": 8,
     "metadata": {},
     "output_type": "execute_result"
    }
   ],
   "source": [
    "# Переглянемо типи даних, що зберігаються в датасеті orders за колонками, щоб зрозуміти чи необхідно змінювати їх для правильного аналізу\n",
    "orders_df.dtypes"
   ]
  },
  {
   "cell_type": "markdown",
   "id": "016e9350-2027-464e-b956-ddcc79ca0943",
   "metadata": {},
   "source": [
    "Висновок: з отриманих результатів можна зробити висновок, що дані в колонці \"date_order_was_placed\" та \"delivery_date\" відображено в неправильному форматі, тож їх треба привести до типу Date."
   ]
  },
  {
   "cell_type": "code",
   "execution_count": 9,
   "id": "9cf80cbd-360a-443d-9fb4-00304c8cf33c",
   "metadata": {
    "scrolled": true
   },
   "outputs": [
    {
     "data": {
      "text/plain": [
       "customer_id                                   int64\n",
       "customer_status                              object\n",
       "date_order_was_placed                datetime64[ns]\n",
       "delivery_date                        datetime64[ns]\n",
       "order_id                                      int64\n",
       "product_id                                    int64\n",
       "quantity_ordered                              int64\n",
       "total_retail_price_for_this_order           float64\n",
       "cost_price_per_unit                         float64\n",
       "dtype: object"
      ]
     },
     "execution_count": 9,
     "metadata": {},
     "output_type": "execute_result"
    }
   ],
   "source": [
    "# Змінемо тип даних на Date в колонках  \"date_order_was_placed\" та \"delivery_date\" \n",
    "date_columns = [\"date_order_was_placed\", \"delivery_date\"]  # Назви потрібних колонок\n",
    "\n",
    "for col in date_columns:\n",
    "    orders_df[col] = pd.to_datetime(orders_df[col], format=\"%d-%b-%y\")\n",
    "\n",
    "# orders_df.head()\n",
    "orders_df.dtypes"
   ]
  },
  {
   "cell_type": "code",
   "execution_count": 13,
   "id": "25337cbb-3286-40e8-8464-abffe8a45b50",
   "metadata": {},
   "outputs": [
    {
     "data": {
      "text/html": [
       "<div>\n",
       "<style scoped>\n",
       "    .dataframe tbody tr th:only-of-type {\n",
       "        vertical-align: middle;\n",
       "    }\n",
       "\n",
       "    .dataframe tbody tr th {\n",
       "        vertical-align: top;\n",
       "    }\n",
       "\n",
       "    .dataframe thead th {\n",
       "        text-align: right;\n",
       "    }\n",
       "</style>\n",
       "<table border=\"1\" class=\"dataframe\">\n",
       "  <thead>\n",
       "    <tr style=\"text-align: right;\">\n",
       "      <th></th>\n",
       "      <th>customer_id</th>\n",
       "      <th>customer_status</th>\n",
       "      <th>date_order_was_placed</th>\n",
       "      <th>delivery_date</th>\n",
       "      <th>order_id</th>\n",
       "      <th>product_id</th>\n",
       "      <th>quantity_ordered</th>\n",
       "      <th>total_retail_price_for_this_order</th>\n",
       "      <th>cost_price_per_unit</th>\n",
       "    </tr>\n",
       "  </thead>\n",
       "  <tbody>\n",
       "    <tr>\n",
       "      <th>0</th>\n",
       "      <td>579</td>\n",
       "      <td>silver</td>\n",
       "      <td>2017-01-01</td>\n",
       "      <td>2017-01-07</td>\n",
       "      <td>123002578</td>\n",
       "      <td>220101400106</td>\n",
       "      <td>2</td>\n",
       "      <td>92.6</td>\n",
       "      <td>20.70</td>\n",
       "    </tr>\n",
       "    <tr>\n",
       "      <th>1</th>\n",
       "      <td>7574</td>\n",
       "      <td>silver</td>\n",
       "      <td>2017-01-01</td>\n",
       "      <td>2017-01-05</td>\n",
       "      <td>123004074</td>\n",
       "      <td>210201000009</td>\n",
       "      <td>1</td>\n",
       "      <td>21.7</td>\n",
       "      <td>9.95</td>\n",
       "    </tr>\n",
       "    <tr>\n",
       "      <th>2</th>\n",
       "      <td>28861</td>\n",
       "      <td>gold</td>\n",
       "      <td>2017-01-01</td>\n",
       "      <td>2017-01-04</td>\n",
       "      <td>123000871</td>\n",
       "      <td>230100500068</td>\n",
       "      <td>1</td>\n",
       "      <td>1.7</td>\n",
       "      <td>0.80</td>\n",
       "    </tr>\n",
       "    <tr>\n",
       "      <th>3</th>\n",
       "      <td>43796</td>\n",
       "      <td>gold</td>\n",
       "      <td>2017-01-01</td>\n",
       "      <td>2017-01-06</td>\n",
       "      <td>123002851</td>\n",
       "      <td>220100100633</td>\n",
       "      <td>1</td>\n",
       "      <td>47.9</td>\n",
       "      <td>24.05</td>\n",
       "    </tr>\n",
       "    <tr>\n",
       "      <th>4</th>\n",
       "      <td>54673</td>\n",
       "      <td>gold</td>\n",
       "      <td>2017-01-01</td>\n",
       "      <td>2017-01-04</td>\n",
       "      <td>123003607</td>\n",
       "      <td>220200200043</td>\n",
       "      <td>1</td>\n",
       "      <td>36.9</td>\n",
       "      <td>18.30</td>\n",
       "    </tr>\n",
       "  </tbody>\n",
       "</table>\n",
       "</div>"
      ],
      "text/plain": [
       "   customer_id customer_status date_order_was_placed delivery_date   order_id  \\\n",
       "0          579          silver            2017-01-01    2017-01-07  123002578   \n",
       "1         7574          silver            2017-01-01    2017-01-05  123004074   \n",
       "2        28861            gold            2017-01-01    2017-01-04  123000871   \n",
       "3        43796            gold            2017-01-01    2017-01-06  123002851   \n",
       "4        54673            gold            2017-01-01    2017-01-04  123003607   \n",
       "\n",
       "     product_id  quantity_ordered  total_retail_price_for_this_order  \\\n",
       "0  220101400106                 2                               92.6   \n",
       "1  210201000009                 1                               21.7   \n",
       "2  230100500068                 1                                1.7   \n",
       "3  220100100633                 1                               47.9   \n",
       "4  220200200043                 1                               36.9   \n",
       "\n",
       "   cost_price_per_unit  \n",
       "0                20.70  \n",
       "1                 9.95  \n",
       "2                 0.80  \n",
       "3                24.05  \n",
       "4                18.30  "
      ]
     },
     "execution_count": 13,
     "metadata": {},
     "output_type": "execute_result"
    }
   ],
   "source": [
    "# Також вважаю за потрібне уніфікувати значення в колонці customer_status \n",
    "# та конвертувати все до нижнього регістру, щоб повсюди мати однаковий формат \n",
    "# і було зручно працювати з ними.\n",
    "\n",
    "orders_df.customer_status = orders_df.customer_status.apply(lambda value: value.lower())\n",
    "orders_df.head()"
   ]
  },
  {
   "cell_type": "markdown",
   "id": "85f18c03-3f4e-4ebb-80eb-766e525a58f8",
   "metadata": {},
   "source": [
    "#### 1.2 Перегляд та підготовка даних датасету product-supplier"
   ]
  },
  {
   "cell_type": "code",
   "execution_count": 25,
   "id": "44aeea9c-decd-48a7-b744-64fae5b74063",
   "metadata": {},
   "outputs": [
    {
     "data": {
      "text/html": [
       "<div>\n",
       "<style scoped>\n",
       "    .dataframe tbody tr th:only-of-type {\n",
       "        vertical-align: middle;\n",
       "    }\n",
       "\n",
       "    .dataframe tbody tr th {\n",
       "        vertical-align: top;\n",
       "    }\n",
       "\n",
       "    .dataframe thead th {\n",
       "        text-align: right;\n",
       "    }\n",
       "</style>\n",
       "<table border=\"1\" class=\"dataframe\">\n",
       "  <thead>\n",
       "    <tr style=\"text-align: right;\">\n",
       "      <th></th>\n",
       "      <th>product_id</th>\n",
       "      <th>product_line</th>\n",
       "      <th>product_category</th>\n",
       "      <th>product_group</th>\n",
       "      <th>product_name</th>\n",
       "      <th>supplier_country</th>\n",
       "      <th>supplier_name</th>\n",
       "      <th>supplier_id</th>\n",
       "    </tr>\n",
       "  </thead>\n",
       "  <tbody>\n",
       "    <tr>\n",
       "      <th>0</th>\n",
       "      <td>210100100001</td>\n",
       "      <td>Children</td>\n",
       "      <td>Children Outdoors</td>\n",
       "      <td>Outdoor things, Kids</td>\n",
       "      <td>Boy's and Girl's Ski Pants with Braces</td>\n",
       "      <td>NO</td>\n",
       "      <td>Scandinavian Clothing A/S</td>\n",
       "      <td>50</td>\n",
       "    </tr>\n",
       "    <tr>\n",
       "      <th>1</th>\n",
       "      <td>210100100002</td>\n",
       "      <td>Children</td>\n",
       "      <td>Children Outdoors</td>\n",
       "      <td>Outdoor things, Kids</td>\n",
       "      <td>Children's Jacket</td>\n",
       "      <td>ES</td>\n",
       "      <td>Luna sastreria S.A.</td>\n",
       "      <td>4742</td>\n",
       "    </tr>\n",
       "    <tr>\n",
       "      <th>2</th>\n",
       "      <td>210100100003</td>\n",
       "      <td>Children</td>\n",
       "      <td>Children Outdoors</td>\n",
       "      <td>Outdoor things, Kids</td>\n",
       "      <td>Children's Jacket Sidney</td>\n",
       "      <td>NO</td>\n",
       "      <td>Scandinavian Clothing A/S</td>\n",
       "      <td>50</td>\n",
       "    </tr>\n",
       "    <tr>\n",
       "      <th>3</th>\n",
       "      <td>210100100004</td>\n",
       "      <td>Children</td>\n",
       "      <td>Children Outdoors</td>\n",
       "      <td>Outdoor things, Kids</td>\n",
       "      <td>Children's Rain Set</td>\n",
       "      <td>NO</td>\n",
       "      <td>Scandinavian Clothing A/S</td>\n",
       "      <td>50</td>\n",
       "    </tr>\n",
       "    <tr>\n",
       "      <th>4</th>\n",
       "      <td>210100100005</td>\n",
       "      <td>Children</td>\n",
       "      <td>Children Outdoors</td>\n",
       "      <td>Outdoor things, Kids</td>\n",
       "      <td>Children's Rain Suit</td>\n",
       "      <td>NO</td>\n",
       "      <td>Scandinavian Clothing A/S</td>\n",
       "      <td>50</td>\n",
       "    </tr>\n",
       "  </tbody>\n",
       "</table>\n",
       "</div>"
      ],
      "text/plain": [
       "     product_id product_line   product_category         product_group  \\\n",
       "0  210100100001     Children  Children Outdoors  Outdoor things, Kids   \n",
       "1  210100100002     Children  Children Outdoors  Outdoor things, Kids   \n",
       "2  210100100003     Children  Children Outdoors  Outdoor things, Kids   \n",
       "3  210100100004     Children  Children Outdoors  Outdoor things, Kids   \n",
       "4  210100100005     Children  Children Outdoors  Outdoor things, Kids   \n",
       "\n",
       "                             product_name supplier_country  \\\n",
       "0  Boy's and Girl's Ski Pants with Braces               NO   \n",
       "1                       Children's Jacket               ES   \n",
       "2                Children's Jacket Sidney               NO   \n",
       "3                     Children's Rain Set               NO   \n",
       "4                    Children's Rain Suit               NO   \n",
       "\n",
       "               supplier_name  supplier_id  \n",
       "0  Scandinavian Clothing A/S           50  \n",
       "1        Luna sastreria S.A.         4742  \n",
       "2  Scandinavian Clothing A/S           50  \n",
       "3  Scandinavian Clothing A/S           50  \n",
       "4  Scandinavian Clothing A/S           50  "
      ]
     },
     "execution_count": 25,
     "metadata": {},
     "output_type": "execute_result"
    }
   ],
   "source": [
    "# Переглянемо як та які дані зберігаються в датасеті product-supplier\n",
    "supliers_df.head()"
   ]
  },
  {
   "cell_type": "code",
   "execution_count": 26,
   "id": "a8ae7bd5-48ee-41e9-bc92-6d3388b3de56",
   "metadata": {},
   "outputs": [
    {
     "name": "stdout",
     "output_type": "stream",
     "text": [
      "Набір даних містить 5504 рядків та 8 колонок\n"
     ]
    }
   ],
   "source": [
    "supliers_df_shape = supliers_df.shape\n",
    "print(f\"Набір даних містить {supliers_df_shape[0]} рядків та {supliers_df_shape[1]} колонок\")"
   ]
  },
  {
   "cell_type": "code",
   "execution_count": 43,
   "id": "ed9ff036-918f-41ed-af8e-44bc9931b14b",
   "metadata": {
    "collapsed": true,
    "jupyter": {
     "outputs_hidden": true
    }
   },
   "outputs": [
    {
     "data": {
      "text/plain": [
       "product_id          0\n",
       "product_line        0\n",
       "product_category    0\n",
       "product_group       0\n",
       "product_name        0\n",
       "supplier_country    0\n",
       "supplier_name       0\n",
       "supplier_id         0\n",
       "dtype: int64"
      ]
     },
     "execution_count": 43,
     "metadata": {},
     "output_type": "execute_result"
    }
   ],
   "source": [
    "# Перевірка на пусті значення\n",
    "supliers_missing_values = supliers_df.isna().sum()\n",
    "supliers_missing_values"
   ]
  },
  {
   "cell_type": "markdown",
   "id": "d38de599-e586-475e-8a6f-0717f0397a68",
   "metadata": {},
   "source": [
    "Висновок: датасет не містить пустих значень"
   ]
  },
  {
   "cell_type": "code",
   "execution_count": 27,
   "id": "a46ec476-2fcf-476e-9c9f-e2dcdcd888d4",
   "metadata": {},
   "outputs": [
    {
     "data": {
      "text/plain": [
       "product_id           int64\n",
       "product_line        object\n",
       "product_category    object\n",
       "product_group       object\n",
       "product_name        object\n",
       "supplier_country    object\n",
       "supplier_name       object\n",
       "supplier_id          int64\n",
       "dtype: object"
      ]
     },
     "execution_count": 27,
     "metadata": {},
     "output_type": "execute_result"
    }
   ],
   "source": [
    "# Переглянемо типи даних, що зберігаються в датасеті orders за колонками, щоб зрозуміти чи необхідно змінювати їх для правильного аналізу\n",
    "supliers_df.dtypes"
   ]
  },
  {
   "cell_type": "markdown",
   "id": "668b43cc-13e3-416e-a579-73ee1e6d5d1d",
   "metadata": {},
   "source": [
    "Висновок: з отриманих даних можна сказати, що дані містять правильні типи тож немає необхідності зміни типів для даного датасету."
   ]
  }
 ],
 "metadata": {
  "kernelspec": {
   "display_name": "Python (tutorial-env)",
   "language": "python",
   "name": "tutorial-env"
  },
  "language_info": {
   "codemirror_mode": {
    "name": "ipython",
    "version": 3
   },
   "file_extension": ".py",
   "mimetype": "text/x-python",
   "name": "python",
   "nbconvert_exporter": "python",
   "pygments_lexer": "ipython3",
   "version": "3.8.10"
  }
 },
 "nbformat": 4,
 "nbformat_minor": 5
}
